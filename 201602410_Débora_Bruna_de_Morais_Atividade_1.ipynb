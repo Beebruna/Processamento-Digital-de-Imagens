{
  "cells": [
    {
      "cell_type": "markdown",
      "metadata": {
        "id": "view-in-github",
        "colab_type": "text"
      },
      "source": [
        "<a href=\"https://colab.research.google.com/github/Beebruna/Processamento-Digital-de-Imagens/blob/main/201602410_D%C3%A9bora_Bruna_de_Morais_Atividade_1.ipynb\" target=\"_parent\"><img src=\"https://colab.research.google.com/assets/colab-badge.svg\" alt=\"Open In Colab\"/></a>"
      ]
    },
    {
      "cell_type": "code",
      "execution_count": 4,
      "metadata": {
        "id": "hKYm6BtxK50V"
      },
      "outputs": [],
      "source": [
        "import cv2\n",
        "import numpy as np\n",
        "import matplotlib.pyplot as plt\n",
        "from google.colab import drive"
      ]
    },
    {
      "cell_type": "code",
      "source": [
        "drive.mount('/content/drive')"
      ],
      "metadata": {
        "colab": {
          "base_uri": "https://localhost:8080/"
        },
        "id": "6Vtn669clLQz",
        "outputId": "a40467e4-4afd-4bea-c8a8-c8216cda764c"
      },
      "execution_count": 5,
      "outputs": [
        {
          "output_type": "stream",
          "name": "stdout",
          "text": [
            "Mounted at /content/drive\n"
          ]
        }
      ]
    },
    {
      "cell_type": "code",
      "source": [
        "#img = cv2.imread('/content/drive/MyDrive/Faculdade/11º Período/Processamento Digital de Imagens/Atividades/Atividade 1/imagens/dog1.jpg', cv2.IMREAD_GRAYSCALE)\n",
        "#img = cv2.imread('/content/drive/MyDrive/Faculdade/11º Período/Processamento Digital de Imagens/Atividades/Atividade 1/imagens/dog2.jpeg', cv2.IMREAD_GRAYSCALE)\n",
        "img = cv2.imread('/content/drive/MyDrive/Faculdade/11º Período/Processamento Digital de Imagens/Atividades/Atividade 1/imagens/lena.png', cv2.IMREAD_GRAYSCALE)"
      ],
      "metadata": {
        "id": "ovwET7H9Zlju"
      },
      "execution_count": 23,
      "outputs": []
    },
    {
      "cell_type": "code",
      "source": [
        "w, h = img.shape\n",
        "print('Dimensões:',img.shape)\n",
        "print('Tipo-Dados:',img.dtype)\n",
        "print('Pixels:',w*h)\n",
        "print('Tamanho:',w*h/1024)\n",
        "import sys\n",
        "print('Tam. Obj.:', sys.getsizeof(img)/1024)"
      ],
      "metadata": {
        "colab": {
          "base_uri": "https://localhost:8080/"
        },
        "id": "OMjvvrbyeCsn",
        "outputId": "1944a4e5-c5fb-454b-bd5e-3657756e3644"
      },
      "execution_count": 24,
      "outputs": [
        {
          "output_type": "stream",
          "name": "stdout",
          "text": [
            "Dimensões: (512, 512)\n",
            "Tipo-Dados: uint8\n",
            "Pixels: 262144\n",
            "Tamanho: 256.0\n",
            "Tam. Obj.: 256.109375\n"
          ]
        }
      ]
    },
    {
      "cell_type": "code",
      "execution_count": 56,
      "metadata": {
        "id": "PPiTTLgoK50f"
      },
      "outputs": [],
      "source": [
        "def binnedHistogram(img):\n",
        "\n",
        "    K = 256 #quantidade de valores de intensidade de uma imagem\n",
        "    B = 256 #tamanho do histograma\n",
        "    H = np.zeros(B, np.uint64)\n",
        "\n",
        "    w, h = img.shape # obtém a largura e a altura da imagem\n",
        "\n",
        "    for v in range(0,h): \n",
        "        for u in range(0,w):\n",
        "            pixel = img[u,v]\n",
        "            pixel = pixel*B//K\n",
        "            H[pixel] = H[pixel]+1\n",
        "    \n",
        "    return H"
      ]
    },
    {
      "cell_type": "code",
      "source": [
        "def drawHistogram():\n",
        "    histograma = binnedHistogram(img)\n",
        "    print(histograma)\n",
        "    plt.bar(range(0, 256), histograma)"
      ],
      "metadata": {
        "id": "myhxZLOQOOvT"
      },
      "execution_count": 57,
      "outputs": []
    },
    {
      "cell_type": "code",
      "source": [
        "drawHistogram()"
      ],
      "metadata": {
        "colab": {
          "base_uri": "https://localhost:8080/",
          "height": 594
        },
        "id": "pL1zrChkS05Y",
        "outputId": "bfdd73ea-569a-420f-b471-819c1b51de56"
      },
      "execution_count": 58,
      "outputs": [
        {
          "output_type": "stream",
          "name": "stdout",
          "text": [
            "[   0    0    0    0    0    0    0    0    0    0    0    0    0    0\n",
            "    0    0    0    0    0    0    0    0    0    0    0    1    8   24\n",
            "   29   70   92  141  187  231  314  425  528  611  792  953 1076 1309\n",
            " 1459 1663 1741 1882 2005 2083 2003 2095 2044 2047 1932 1836 1725 1659\n",
            " 1543 1455 1292 1254 1160 1018  975  952  876  879  779  792  775  780\n",
            "  848  809  823  785  870  912  849  887  934  941  905  916  853  945\n",
            "  924  974  989 1022 1059 1125 1106 1225 1176 1333 1413 1553 1611 1783\n",
            " 1858 2064 1937 1935 1941 1833 1771 1748 1578 1497 1463 1335 1363 1394\n",
            " 1351 1438 1383 1352 1389 1453 1525 1529 1607 1772 1793 1842 2018 2105\n",
            " 2277 2325 2337 2484 2396 2316 2210 2134 2045 1808 1977 1820 2044 2123\n",
            " 2237 2268 2333 2415 2470 2396 2266 2335 2231 2242 2273 2327 2356 2566\n",
            " 2716 2728 2626 2554 2370 2336 2061 1902 1748 1659 1467 1427 1358 1243\n",
            " 1200 1245 1184 1129 1318 1297 1230 1186 1196 1205 1137  975  931  844\n",
            "  786  696  649  622  623  689  665  640  736  794  802  926  912 1005\n",
            "  905  882  905  837  830  892  868  862  878  963  970 1017 1125 1045\n",
            "  919 1068  936  838  717  568  518  403  376  318  232  234  218  174\n",
            "  127   91   66   57   50   29   24    8    7    6    7    1    1    0\n",
            "    1    0    0    0    2    0    1    1    0    0    0    0    0    0\n",
            "    0    0    0    0]\n"
          ]
        },
        {
          "output_type": "display_data",
          "data": {
            "image/png": "[encoded data removed]",
            "text/plain": [
              "<Figure size 432x288 with 1 Axes>"
            ]
          },
          "metadata": {
            "needs_background": "light"
          }
        }
      ]
    }
  ],
  "metadata": {
    "kernelspec": {
      "display_name": "Python 3",
      "language": "python",
      "name": "python3"
    },
    "language_info": {
      "codemirror_mode": {
        "name": "ipython",
        "version": 3
      },
      "file_extension": ".py",
      "mimetype": "text/x-python",
      "name": "python",
      "nbconvert_exporter": "python",
      "pygments_lexer": "ipython3",
      "version": "3.8.3"
    },
    "colab": {
      "name": "201602410_Débora Bruna de Morais - Atividade 1",
      "provenance": [],
      "include_colab_link": true
    }
  },
  "nbformat": 4,
  "nbformat_minor": 0
}